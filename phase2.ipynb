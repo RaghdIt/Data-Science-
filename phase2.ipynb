{
 "cells": [
  {
   "cell_type": "markdown",
   "metadata": {},
   "source": [
    "# **Data Processing and Cleaning**"
   ]
  },
  {
   "cell_type": "markdown",
   "metadata": {},
   "source": [
    "## 1. **Data Loading and Initial Inspection**\n",
    "\n",
    "**Description:**\n",
    "\n",
    "Before cleaning and processing, we load the dataset and inspect its structure, including column names, data types, and summary statistics."
   ]
  },
  {
   "cell_type": "markdown",
   "metadata": {},
   "source": [
    "# Load the dataset"
   ]
  },
  {
   "cell_type": "code",
   "execution_count": 467,
   "metadata": {},
   "outputs": [],
   "source": [
    "df = pd.read_csv(\"primary_data.csv\")"
   ]
  },
  {
   "cell_type": "markdown",
   "metadata": {},
   "source": [
    "# Display the first 5 rows"
   ]
  },
  {
   "cell_type": "code",
   "execution_count": 468,
   "metadata": {},
   "outputs": [
    {
     "data": {
      "text/html": [
       "<div>\n",
       "<style scoped>\n",
       "    .dataframe tbody tr th:only-of-type {\n",
       "        vertical-align: middle;\n",
       "    }\n",
       "\n",
       "    .dataframe tbody tr th {\n",
       "        vertical-align: top;\n",
       "    }\n",
       "\n",
       "    .dataframe thead th {\n",
       "        text-align: right;\n",
       "    }\n",
       "</style>\n",
       "<table border=\"1\" class=\"dataframe\">\n",
       "  <thead>\n",
       "    <tr style=\"text-align: right;\">\n",
       "      <th></th>\n",
       "      <th>Video ID</th>\n",
       "      <th>Title</th>\n",
       "      <th>Duration</th>\n",
       "      <th>Views</th>\n",
       "      <th>Likes</th>\n",
       "      <th>Comments</th>\n",
       "      <th>Language</th>\n",
       "      <th>Topic</th>\n",
       "      <th>Publication Time</th>\n",
       "      <th>Region</th>\n",
       "    </tr>\n",
       "  </thead>\n",
       "  <tbody>\n",
       "    <tr>\n",
       "      <th>0</th>\n",
       "      <td>KbiwL74KyJQ</td>\n",
       "      <td>Shrek 5 Cast Announcement</td>\n",
       "      <td>PT28S</td>\n",
       "      <td>7871600</td>\n",
       "      <td>156303</td>\n",
       "      <td>0</td>\n",
       "      <td>English</td>\n",
       "      <td>Entertainment</td>\n",
       "      <td>2025-02-27T16:01:18Z</td>\n",
       "      <td>US</td>\n",
       "    </tr>\n",
       "    <tr>\n",
       "      <th>1</th>\n",
       "      <td>8B1EtVPBSMw</td>\n",
       "      <td>A Minecraft Movie | Final Trailer</td>\n",
       "      <td>PT2M31S</td>\n",
       "      <td>11843815</td>\n",
       "      <td>239419</td>\n",
       "      <td>22975</td>\n",
       "      <td>English</td>\n",
       "      <td>Film &amp; Animation</td>\n",
       "      <td>2025-02-27T20:00:04Z</td>\n",
       "      <td>US</td>\n",
       "    </tr>\n",
       "    <tr>\n",
       "      <th>2</th>\n",
       "      <td>W7FTkUFU7nw</td>\n",
       "      <td>Pokémon Presents | 2.27.2025</td>\n",
       "      <td>PT19M16S</td>\n",
       "      <td>3599910</td>\n",
       "      <td>156222</td>\n",
       "      <td>18513</td>\n",
       "      <td>English</td>\n",
       "      <td>Gaming</td>\n",
       "      <td>2025-02-27T14:00:06Z</td>\n",
       "      <td>US</td>\n",
       "    </tr>\n",
       "    <tr>\n",
       "      <th>3</th>\n",
       "      <td>r5VRqWkFpEQ</td>\n",
       "      <td>LISA - FUTW (Vixi Solo Version) (Official Musi...</td>\n",
       "      <td>PT3M48S</td>\n",
       "      <td>8218102</td>\n",
       "      <td>1016119</td>\n",
       "      <td>66437</td>\n",
       "      <td>English</td>\n",
       "      <td>Music</td>\n",
       "      <td>2025-02-28T05:01:26Z</td>\n",
       "      <td>US</td>\n",
       "    </tr>\n",
       "    <tr>\n",
       "      <th>4</th>\n",
       "      <td>vONxgCQWZCA</td>\n",
       "      <td>YoungBoy Never Broke Again - 5 Night [Official...</td>\n",
       "      <td>PT3M16S</td>\n",
       "      <td>540591</td>\n",
       "      <td>60888</td>\n",
       "      <td>5892</td>\n",
       "      <td>English</td>\n",
       "      <td>Music</td>\n",
       "      <td>2025-02-28T06:32:53Z</td>\n",
       "      <td>US</td>\n",
       "    </tr>\n",
       "  </tbody>\n",
       "</table>\n",
       "</div>"
      ],
      "text/plain": [
       "      Video ID                                              Title  Duration  \\\n",
       "0  KbiwL74KyJQ                          Shrek 5 Cast Announcement     PT28S   \n",
       "1  8B1EtVPBSMw                  A Minecraft Movie | Final Trailer   PT2M31S   \n",
       "2  W7FTkUFU7nw                       Pokémon Presents | 2.27.2025  PT19M16S   \n",
       "3  r5VRqWkFpEQ  LISA - FUTW (Vixi Solo Version) (Official Musi...   PT3M48S   \n",
       "4  vONxgCQWZCA  YoungBoy Never Broke Again - 5 Night [Official...   PT3M16S   \n",
       "\n",
       "      Views    Likes  Comments Language             Topic  \\\n",
       "0   7871600   156303         0  English     Entertainment   \n",
       "1  11843815   239419     22975  English  Film & Animation   \n",
       "2   3599910   156222     18513  English            Gaming   \n",
       "3   8218102  1016119     66437  English             Music   \n",
       "4    540591    60888      5892  English             Music   \n",
       "\n",
       "       Publication Time Region  \n",
       "0  2025-02-27T16:01:18Z     US  \n",
       "1  2025-02-27T20:00:04Z     US  \n",
       "2  2025-02-27T14:00:06Z     US  \n",
       "3  2025-02-28T05:01:26Z     US  \n",
       "4  2025-02-28T06:32:53Z     US  "
      ]
     },
     "execution_count": 468,
     "metadata": {},
     "output_type": "execute_result"
    }
   ],
   "source": [
    "df.head()"
   ]
  },
  {
   "cell_type": "markdown",
   "metadata": {},
   "source": [
    "# Number of rows and columns"
   ]
  },
  {
   "cell_type": "code",
   "execution_count": 469,
   "metadata": {},
   "outputs": [
    {
     "name": "stdout",
     "output_type": "stream",
     "text": [
      "Number of rows: 2513\n",
      "Number of columns: 10\n"
     ]
    }
   ],
   "source": [
    "num_rows, num_cols = df.shape\n",
    "\n",
    "print(\"Number of rows:\", num_rows)\n",
    "print(\"Number of columns:\", num_cols)"
   ]
  },
  {
   "cell_type": "markdown",
   "metadata": {},
   "source": [
    "# Prints the data types of each column"
   ]
  },
  {
   "cell_type": "code",
   "execution_count": 470,
   "metadata": {},
   "outputs": [
    {
     "name": "stdout",
     "output_type": "stream",
     "text": [
      "Types of columns:\n",
      "Video ID            object\n",
      "Title               object\n",
      "Duration            object\n",
      "Views                int64\n",
      "Likes                int64\n",
      "Comments             int64\n",
      "Language            object\n",
      "Topic               object\n",
      "Publication Time    object\n",
      "Region              object\n",
      "dtype: object\n"
     ]
    }
   ],
   "source": [
    "column_types = df.dtypes\n",
    "\n",
    "print(\"Types of columns:\")\n",
    "print(column_types)"
   ]
  },
  {
   "cell_type": "markdown",
   "metadata": {},
   "source": [
    "## 2. **Handling Missing Values**"
   ]
  },
  {
   "cell_type": "markdown",
   "metadata": {},
   "source": [
    "### Description:\n",
    "We check for missing values in the dataset and handle them appropriately. For this dataset, we drop rows with missing critical fields like `Views`, `Likes`, or `Comments`"
   ]
  },
  {
   "cell_type": "markdown",
   "metadata": {},
   "source": [
    "# Check for missing values"
   ]
  },
  {
   "cell_type": "code",
   "execution_count": 471,
   "metadata": {},
   "outputs": [
    {
     "name": "stdout",
     "output_type": "stream",
     "text": [
      "Video ID            0\n",
      "Title               0\n",
      "Duration            0\n",
      "Views               0\n",
      "Likes               0\n",
      "Comments            0\n",
      "Language            0\n",
      "Topic               0\n",
      "Publication Time    0\n",
      "Region              0\n",
      "dtype: int64\n"
     ]
    }
   ],
   "source": [
    "print(df.isnull().sum())"
   ]
  },
  {
   "cell_type": "markdown",
   "metadata": {},
   "source": [
    "**No missing values found**, so no rows were dropped."
   ]
  },
  {
   "cell_type": "markdown",
   "metadata": {},
   "source": [
    "## 3. **Removing Duplicates**"
   ]
  },
  {
   "cell_type": "markdown",
   "metadata": {},
   "source": [
    "### Description:\n",
    "We check for duplicate rows based on the `VideoID` column and remove them to ensure data integrity."
   ]
  },
  {
   "cell_type": "markdown",
   "metadata": {},
   "source": [
    "# Check for duplicate Video IDs"
   ]
  },
  {
   "cell_type": "code",
   "execution_count": 472,
   "metadata": {},
   "outputs": [
    {
     "name": "stdout",
     "output_type": "stream",
     "text": [
      "\n",
      "Duplicate Rows:  0\n"
     ]
    }
   ],
   "source": [
    "print(\"\\nDuplicate Rows: \", df.duplicated().sum())"
   ]
  },
  {
   "cell_type": "markdown",
   "metadata": {},
   "source": [
    "**No duplicates found**, so no rows were removed"
   ]
  },
  {
   "cell_type": "markdown",
   "metadata": {},
   "source": [
    "## 4. **Data Type Conversion**\n",
    "### Description:\n",
    "We convert the **Duration** column from ISO 8601 format to seconds for easier analysis. We also convert the **Publication Time** column to a datetime object."
   ]
  },
  {
   "cell_type": "code",
   "execution_count": 473,
   "metadata": {},
   "outputs": [
    {
     "data": {
      "text/html": [
       "<div>\n",
       "<style scoped>\n",
       "    .dataframe tbody tr th:only-of-type {\n",
       "        vertical-align: middle;\n",
       "    }\n",
       "\n",
       "    .dataframe tbody tr th {\n",
       "        vertical-align: top;\n",
       "    }\n",
       "\n",
       "    .dataframe thead th {\n",
       "        text-align: right;\n",
       "    }\n",
       "</style>\n",
       "<table border=\"1\" class=\"dataframe\">\n",
       "  <thead>\n",
       "    <tr style=\"text-align: right;\">\n",
       "      <th></th>\n",
       "      <th>Video ID</th>\n",
       "      <th>Title</th>\n",
       "      <th>Duration</th>\n",
       "      <th>Views</th>\n",
       "      <th>Likes</th>\n",
       "      <th>Comments</th>\n",
       "      <th>Language</th>\n",
       "      <th>Topic</th>\n",
       "      <th>Publication Time</th>\n",
       "      <th>Region</th>\n",
       "    </tr>\n",
       "  </thead>\n",
       "  <tbody>\n",
       "    <tr>\n",
       "      <th>0</th>\n",
       "      <td>KbiwL74KyJQ</td>\n",
       "      <td>Shrek 5 Cast Announcement</td>\n",
       "      <td>28</td>\n",
       "      <td>7871600</td>\n",
       "      <td>156303</td>\n",
       "      <td>0</td>\n",
       "      <td>English</td>\n",
       "      <td>Entertainment</td>\n",
       "      <td>2025-02-27 16:01:18+00:00</td>\n",
       "      <td>US</td>\n",
       "    </tr>\n",
       "    <tr>\n",
       "      <th>1</th>\n",
       "      <td>8B1EtVPBSMw</td>\n",
       "      <td>A Minecraft Movie | Final Trailer</td>\n",
       "      <td>151</td>\n",
       "      <td>11843815</td>\n",
       "      <td>239419</td>\n",
       "      <td>22975</td>\n",
       "      <td>English</td>\n",
       "      <td>Film &amp; Animation</td>\n",
       "      <td>2025-02-27 20:00:04+00:00</td>\n",
       "      <td>US</td>\n",
       "    </tr>\n",
       "    <tr>\n",
       "      <th>2</th>\n",
       "      <td>W7FTkUFU7nw</td>\n",
       "      <td>Pokémon Presents | 2.27.2025</td>\n",
       "      <td>1156</td>\n",
       "      <td>3599910</td>\n",
       "      <td>156222</td>\n",
       "      <td>18513</td>\n",
       "      <td>English</td>\n",
       "      <td>Gaming</td>\n",
       "      <td>2025-02-27 14:00:06+00:00</td>\n",
       "      <td>US</td>\n",
       "    </tr>\n",
       "    <tr>\n",
       "      <th>3</th>\n",
       "      <td>r5VRqWkFpEQ</td>\n",
       "      <td>LISA - FUTW (Vixi Solo Version) (Official Musi...</td>\n",
       "      <td>228</td>\n",
       "      <td>8218102</td>\n",
       "      <td>1016119</td>\n",
       "      <td>66437</td>\n",
       "      <td>English</td>\n",
       "      <td>Music</td>\n",
       "      <td>2025-02-28 05:01:26+00:00</td>\n",
       "      <td>US</td>\n",
       "    </tr>\n",
       "    <tr>\n",
       "      <th>4</th>\n",
       "      <td>vONxgCQWZCA</td>\n",
       "      <td>YoungBoy Never Broke Again - 5 Night [Official...</td>\n",
       "      <td>196</td>\n",
       "      <td>540591</td>\n",
       "      <td>60888</td>\n",
       "      <td>5892</td>\n",
       "      <td>English</td>\n",
       "      <td>Music</td>\n",
       "      <td>2025-02-28 06:32:53+00:00</td>\n",
       "      <td>US</td>\n",
       "    </tr>\n",
       "  </tbody>\n",
       "</table>\n",
       "</div>"
      ],
      "text/plain": [
       "      Video ID                                              Title  Duration  \\\n",
       "0  KbiwL74KyJQ                          Shrek 5 Cast Announcement        28   \n",
       "1  8B1EtVPBSMw                  A Minecraft Movie | Final Trailer       151   \n",
       "2  W7FTkUFU7nw                       Pokémon Presents | 2.27.2025      1156   \n",
       "3  r5VRqWkFpEQ  LISA - FUTW (Vixi Solo Version) (Official Musi...       228   \n",
       "4  vONxgCQWZCA  YoungBoy Never Broke Again - 5 Night [Official...       196   \n",
       "\n",
       "      Views    Likes  Comments Language             Topic  \\\n",
       "0   7871600   156303         0  English     Entertainment   \n",
       "1  11843815   239419     22975  English  Film & Animation   \n",
       "2   3599910   156222     18513  English            Gaming   \n",
       "3   8218102  1016119     66437  English             Music   \n",
       "4    540591    60888      5892  English             Music   \n",
       "\n",
       "           Publication Time Region  \n",
       "0 2025-02-27 16:01:18+00:00     US  \n",
       "1 2025-02-27 20:00:04+00:00     US  \n",
       "2 2025-02-27 14:00:06+00:00     US  \n",
       "3 2025-02-28 05:01:26+00:00     US  \n",
       "4 2025-02-28 06:32:53+00:00     US  "
      ]
     },
     "execution_count": 473,
     "metadata": {},
     "output_type": "execute_result"
    }
   ],
   "source": [
    "import numpy as np\n",
    "\n",
    "# Function to convert ISO 8601 duration to seconds\n",
    "def duration_to_seconds(duration):\n",
    "    import re\n",
    "    pattern = re.compile(r'PT(\\d+H)?(\\d+M)?(\\d+S)?')\n",
    "    matches = pattern.match(duration)\n",
    "\n",
    "    hours = int(matches.group(1)[:-1]) if matches.group(1) else 0\n",
    "    minutes = int(matches.group(2)[:-1]) if matches.group(2) else 0\n",
    "    seconds = int(matches.group(3)[:-1]) if matches.group(3) else 0\n",
    "\n",
    "    return hours * 3600 + minutes * 60 + seconds\n",
    "\n",
    "# Convert Duration column to seconds\n",
    "df[\"Duration\"] = df[\"Duration\"].apply(duration_to_seconds)\n",
    "\n",
    "# Convert Publication Time to datetime\n",
    "df[\"Publication Time\"] = pd.to_datetime(df[\"Publication Time\"])\n",
    "df.head()"
   ]
  },
  {
   "cell_type": "markdown",
   "metadata": {},
   "source": [
    "Apply Min-Max Normalization to Views, Likes, and Comments"
   ]
  },
  {
   "cell_type": "markdown",
   "metadata": {},
   "source": [
    "# Check if ther are rows where Likes > Views "
   ]
  },
  {
   "cell_type": "code",
   "execution_count": 474,
   "metadata": {},
   "outputs": [
    {
     "name": "stdout",
     "output_type": "stream",
     "text": [
      "Rows where Likes > Views: 3\n",
      "Examples of invalid rows:\n",
      "         Video ID                                              Title  \\\n",
      "1316  Mw1r6DwYy-g  All 20 Drivers. All 10 Teams. UNVEILED. | F1 7...   \n",
      "1534  Mw1r6DwYy-g  All 20 Drivers. All 10 Teams. UNVEILED. | F1 7...   \n",
      "2371  Mw1r6DwYy-g  All 20 Drivers. All 10 Teams. UNVEILED. | F1 7...   \n",
      "\n",
      "      Duration  Views   Likes  Comments    Language   Topic  \\\n",
      "1316      7439      0  240037      4034      French  Sports   \n",
      "1534      7439      0  240037      4034  Portuguese  Sports   \n",
      "2371      7439      0  240037      4034     Spanish  Sports   \n",
      "\n",
      "              Publication Time Region  \n",
      "1316 2025-02-18 22:14:25+00:00     FR  \n",
      "1534 2025-02-18 22:14:25+00:00     BR  \n",
      "2371 2025-02-18 22:14:25+00:00     MX  \n",
      "Dataset size after cleaning: (2510, 10)\n"
     ]
    }
   ],
   "source": [
    "# Count rows where Likes > Views (invalid)\n",
    "invalid_likes = df[df['Likes'] > df['Views']]\n",
    "print(f\"Rows where Likes > Views: {len(invalid_likes)}\")\n",
    "\n",
    "# Display some examples\n",
    "if not invalid_likes.empty:\n",
    "    print(\"Examples of invalid rows:\")\n",
    "    print(invalid_likes.head())\n",
    "# Remove rows where 'Likes' > 'Views' (impossible scenario)\n",
    "df = df[df['Likes'] <= df['Views']]\n",
    "\n",
    "# Keep rows where 'Comments' > 'Views' (valid scenario)\n",
    "print(f\"Dataset size after cleaning: {df.shape}\")\n"
   ]
  },
  {
   "cell_type": "markdown",
   "metadata": {},
   "source": [
    "## 6. **Detect Outliers**"
   ]
  },
  {
   "cell_type": "code",
   "execution_count": 475,
   "metadata": {},
   "outputs": [
    {
     "name": "stdout",
     "output_type": "stream",
     "text": [
      "Outliers in Duration:\n",
      "90       3491\n",
      "118      8941\n",
      "191      3226\n",
      "234     15834\n",
      "235      8941\n",
      "        ...  \n",
      "2278     3284\n",
      "2291     4766\n",
      "2306    17615\n",
      "2310     3357\n",
      "2363     4032\n",
      "Name: Duration, Length: 110, dtype: int64 \n",
      "\n",
      "Outliers in Views:\n",
      "0        7871600\n",
      "1       11843815\n",
      "3        8218102\n",
      "8       31166959\n",
      "18       5878945\n",
      "          ...   \n",
      "2495    13536687\n",
      "2498     7013755\n",
      "2506     4433391\n",
      "2507    63903398\n",
      "2510    20177055\n",
      "Name: Views, Length: 297, dtype: int64 \n",
      "\n",
      "Outliers in Likes:\n",
      "0        156303\n",
      "1        239419\n",
      "2        156222\n",
      "3       1016119\n",
      "8        792502\n",
      "         ...   \n",
      "2493     155589\n",
      "2495     324384\n",
      "2503     268783\n",
      "2507    2282893\n",
      "2510     394374\n",
      "Name: Likes, Length: 324, dtype: int64 \n",
      "\n",
      "Outliers in Comments:\n",
      "1        22975\n",
      "2        18513\n",
      "3        66437\n",
      "8        48500\n",
      "12       10725\n",
      "         ...  \n",
      "2493     28045\n",
      "2495     20501\n",
      "2503     10262\n",
      "2504      9611\n",
      "2507    144840\n",
      "Name: Comments, Length: 304, dtype: int64 \n",
      "\n"
     ]
    },
    {
     "data": {
      "image/png": "[encoded data removed]",
      "text/plain": [
       "<Figure size 800x500 with 1 Axes>"
      ]
     },
     "metadata": {},
     "output_type": "display_data"
    },
    {
     "data": {
      "image/png": "[encoded data removed]",
      "text/plain": [
       "<Figure size 800x500 with 1 Axes>"
      ]
     },
     "metadata": {},
     "output_type": "display_data"
    },
    {
     "data": {
      "image/png": "[encoded data removed]",
      "text/plain": [
       "<Figure size 800x500 with 1 Axes>"
      ]
     },
     "metadata": {},
     "output_type": "display_data"
    },
    {
     "data": {
      "image/png": "[encoded data removed]",
      "text/plain": [
       "<Figure size 800x500 with 1 Axes>"
      ]
     },
     "metadata": {},
     "output_type": "display_data"
    }
   ],
   "source": [
    "import matplotlib.pyplot as plt\n",
    "# Function to detect outliers using IQR\n",
    "def detect_outliers_iqr(df):\n",
    "    outliers = {}\n",
    "    for column in df.select_dtypes(include=[np.number]).columns:  # Select only numerical columns\n",
    "        Q1 = df[column].quantile(0.25)\n",
    "        Q3 = df[column].quantile(0.75)\n",
    "        IQR = Q3 - Q1\n",
    "        lower_bound = Q1 - 1.5 * IQR\n",
    "        upper_bound = Q3 + 1.5 * IQR\n",
    "        outliers[column] = df[(df[column] < lower_bound) | (df[column] > upper_bound)][column]\n",
    "    return outliers\n",
    "\n",
    "# Detect outliers\n",
    "outliers_dict = detect_outliers_iqr(df)\n",
    "\n",
    "# Print outliers\n",
    "for column, outliers in outliers_dict.items():\n",
    "    print(f\"Outliers in {column}:\")\n",
    "    print(outliers, \"\\n\")\n",
    "\n",
    "# Box plot for numerical columns\n",
    "for column in df.select_dtypes(include=[np.number]).columns:\n",
    "    plt.figure(figsize=(8, 5))\n",
    "    plt.boxplot(df[column].dropna(), vert=False)\n",
    "    plt.title(f'Box Plot of {column}')\n",
    "    plt.xlabel(column)\n",
    "    plt.show()"
   ]
  },
  {
   "cell_type": "markdown",
   "metadata": {},
   "source": [
    "In our analysis, we have identified outliers in the dataset, particularly in metrics related to video performance. However, rather than removing these outliers, we have chosen to **retain them**. The primary reason for this decision is that we are specifically interested in understanding videos that achieve a large number of views. These high-performing videos often appear as outliers, but they provide valuable insights into trends, audience preferences, and factors contributing to viral success. By keeping these data points, we ensure that our analysis accurately reflects the dynamics of highly successful content, allowing us to uncover meaningful patterns that might otherwise be lost."
   ]
  },
  {
   "cell_type": "markdown",
   "metadata": {},
   "source": [
    "## 5. **Normalizing**"
   ]
  },
  {
   "cell_type": "markdown",
   "metadata": {},
   "source": [
    "# Normalizing Views, Comments and Likes"
   ]
  },
  {
   "cell_type": "code",
   "execution_count": 476,
   "metadata": {},
   "outputs": [
    {
     "data": {
      "text/html": [
       "<div>\n",
       "<style scoped>\n",
       "    .dataframe tbody tr th:only-of-type {\n",
       "        vertical-align: middle;\n",
       "    }\n",
       "\n",
       "    .dataframe tbody tr th {\n",
       "        vertical-align: top;\n",
       "    }\n",
       "\n",
       "    .dataframe thead th {\n",
       "        text-align: right;\n",
       "    }\n",
       "</style>\n",
       "<table border=\"1\" class=\"dataframe\">\n",
       "  <thead>\n",
       "    <tr style=\"text-align: right;\">\n",
       "      <th></th>\n",
       "      <th>Video ID</th>\n",
       "      <th>Title</th>\n",
       "      <th>Duration</th>\n",
       "      <th>Views</th>\n",
       "      <th>Likes</th>\n",
       "      <th>Comments</th>\n",
       "      <th>Language</th>\n",
       "      <th>Topic</th>\n",
       "      <th>Publication Time</th>\n",
       "      <th>Region</th>\n",
       "    </tr>\n",
       "  </thead>\n",
       "  <tbody>\n",
       "    <tr>\n",
       "      <th>0</th>\n",
       "      <td>KbiwL74KyJQ</td>\n",
       "      <td>Shrek 5 Cast Announcement</td>\n",
       "      <td>28</td>\n",
       "      <td>0.053542</td>\n",
       "      <td>0.034124</td>\n",
       "      <td>0.000000</td>\n",
       "      <td>English</td>\n",
       "      <td>Entertainment</td>\n",
       "      <td>2025-02-27 16:01:18+00:00</td>\n",
       "      <td>US</td>\n",
       "    </tr>\n",
       "    <tr>\n",
       "      <th>1</th>\n",
       "      <td>8B1EtVPBSMw</td>\n",
       "      <td>A Minecraft Movie | Final Trailer</td>\n",
       "      <td>151</td>\n",
       "      <td>0.080644</td>\n",
       "      <td>0.052269</td>\n",
       "      <td>0.132190</td>\n",
       "      <td>English</td>\n",
       "      <td>Film &amp; Animation</td>\n",
       "      <td>2025-02-27 20:00:04+00:00</td>\n",
       "      <td>US</td>\n",
       "    </tr>\n",
       "    <tr>\n",
       "      <th>2</th>\n",
       "      <td>W7FTkUFU7nw</td>\n",
       "      <td>Pokémon Presents | 2.27.2025</td>\n",
       "      <td>1156</td>\n",
       "      <td>0.024396</td>\n",
       "      <td>0.034106</td>\n",
       "      <td>0.106517</td>\n",
       "      <td>English</td>\n",
       "      <td>Gaming</td>\n",
       "      <td>2025-02-27 14:00:06+00:00</td>\n",
       "      <td>US</td>\n",
       "    </tr>\n",
       "    <tr>\n",
       "      <th>3</th>\n",
       "      <td>r5VRqWkFpEQ</td>\n",
       "      <td>LISA - FUTW (Vixi Solo Version) (Official Musi...</td>\n",
       "      <td>228</td>\n",
       "      <td>0.055906</td>\n",
       "      <td>0.221836</td>\n",
       "      <td>0.382255</td>\n",
       "      <td>English</td>\n",
       "      <td>Music</td>\n",
       "      <td>2025-02-28 05:01:26+00:00</td>\n",
       "      <td>US</td>\n",
       "    </tr>\n",
       "    <tr>\n",
       "      <th>4</th>\n",
       "      <td>vONxgCQWZCA</td>\n",
       "      <td>YoungBoy Never Broke Again - 5 Night [Official...</td>\n",
       "      <td>196</td>\n",
       "      <td>0.003523</td>\n",
       "      <td>0.013293</td>\n",
       "      <td>0.033900</td>\n",
       "      <td>English</td>\n",
       "      <td>Music</td>\n",
       "      <td>2025-02-28 06:32:53+00:00</td>\n",
       "      <td>US</td>\n",
       "    </tr>\n",
       "  </tbody>\n",
       "</table>\n",
       "</div>"
      ],
      "text/plain": [
       "      Video ID                                              Title  Duration  \\\n",
       "0  KbiwL74KyJQ                          Shrek 5 Cast Announcement        28   \n",
       "1  8B1EtVPBSMw                  A Minecraft Movie | Final Trailer       151   \n",
       "2  W7FTkUFU7nw                       Pokémon Presents | 2.27.2025      1156   \n",
       "3  r5VRqWkFpEQ  LISA - FUTW (Vixi Solo Version) (Official Musi...       228   \n",
       "4  vONxgCQWZCA  YoungBoy Never Broke Again - 5 Night [Official...       196   \n",
       "\n",
       "      Views     Likes  Comments Language             Topic  \\\n",
       "0  0.053542  0.034124  0.000000  English     Entertainment   \n",
       "1  0.080644  0.052269  0.132190  English  Film & Animation   \n",
       "2  0.024396  0.034106  0.106517  English            Gaming   \n",
       "3  0.055906  0.221836  0.382255  English             Music   \n",
       "4  0.003523  0.013293  0.033900  English             Music   \n",
       "\n",
       "           Publication Time Region  \n",
       "0 2025-02-27 16:01:18+00:00     US  \n",
       "1 2025-02-27 20:00:04+00:00     US  \n",
       "2 2025-02-27 14:00:06+00:00     US  \n",
       "3 2025-02-28 05:01:26+00:00     US  \n",
       "4 2025-02-28 06:32:53+00:00     US  "
      ]
     },
     "execution_count": 476,
     "metadata": {},
     "output_type": "execute_result"
    }
   ],
   "source": [
    "# Apply Min-Max Normalization to Views, Likes, and Comments\n",
    "columns_to_normalize = [\"Views\", \"Likes\", \"Comments\"]\n",
    "for col in columns_to_normalize:\n",
    "    min_val = df[col].min()\n",
    "    max_val = df[col].max()\n",
    "    df[col] = (df[col] - min_val) / (max_val - min_val)\n",
    "\n",
    "df.head()"
   ]
  },
  {
   "cell_type": "markdown",
   "metadata": {},
   "source": [
    "# One-hot encode 'Topic' and 'Language' columns"
   ]
  },
  {
   "cell_type": "markdown",
   "metadata": {},
   "source": [
    "During data cleaning, we removed any rows where the number of likes exceeded the number of views, as this is not logically possible since a user must view content before liking it. However, we retained rows where the number of comments was greater than the number of views, as a single user can leave multiple comments on the same content. This ensures the dataset remains realistic and reliable for further analysis."
   ]
  },
  {
   "cell_type": "code",
   "execution_count": 477,
   "metadata": {},
   "outputs": [
    {
     "name": "stdout",
     "output_type": "stream",
     "text": [
      "After One-Hot Encoding and Normalization:\n"
     ]
    },
    {
     "data": {
      "text/html": [
       "<div>\n",
       "<style scoped>\n",
       "    .dataframe tbody tr th:only-of-type {\n",
       "        vertical-align: middle;\n",
       "    }\n",
       "\n",
       "    .dataframe tbody tr th {\n",
       "        vertical-align: top;\n",
       "    }\n",
       "\n",
       "    .dataframe thead th {\n",
       "        text-align: right;\n",
       "    }\n",
       "</style>\n",
       "<table border=\"1\" class=\"dataframe\">\n",
       "  <thead>\n",
       "    <tr style=\"text-align: right;\">\n",
       "      <th></th>\n",
       "      <th>Video ID</th>\n",
       "      <th>Title</th>\n",
       "      <th>Duration</th>\n",
       "      <th>Views</th>\n",
       "      <th>Likes</th>\n",
       "      <th>Comments</th>\n",
       "      <th>Publication Time</th>\n",
       "      <th>Region</th>\n",
       "      <th>Topic_Autos &amp; Vehicles</th>\n",
       "      <th>Topic_Comedy</th>\n",
       "      <th>...</th>\n",
       "      <th>Language_Arabic</th>\n",
       "      <th>Language_English</th>\n",
       "      <th>Language_French</th>\n",
       "      <th>Language_German</th>\n",
       "      <th>Language_Hindi</th>\n",
       "      <th>Language_Japanese</th>\n",
       "      <th>Language_Korean</th>\n",
       "      <th>Language_Portuguese</th>\n",
       "      <th>Language_Russian</th>\n",
       "      <th>Language_Spanish</th>\n",
       "    </tr>\n",
       "  </thead>\n",
       "  <tbody>\n",
       "    <tr>\n",
       "      <th>0</th>\n",
       "      <td>KbiwL74KyJQ</td>\n",
       "      <td>Shrek 5 Cast Announcement</td>\n",
       "      <td>28</td>\n",
       "      <td>0.053542</td>\n",
       "      <td>0.034124</td>\n",
       "      <td>0.000000</td>\n",
       "      <td>2025-02-27 16:01:18+00:00</td>\n",
       "      <td>US</td>\n",
       "      <td>0</td>\n",
       "      <td>0</td>\n",
       "      <td>...</td>\n",
       "      <td>0</td>\n",
       "      <td>1</td>\n",
       "      <td>0</td>\n",
       "      <td>0</td>\n",
       "      <td>0</td>\n",
       "      <td>0</td>\n",
       "      <td>0</td>\n",
       "      <td>0</td>\n",
       "      <td>0</td>\n",
       "      <td>0</td>\n",
       "    </tr>\n",
       "    <tr>\n",
       "      <th>1</th>\n",
       "      <td>8B1EtVPBSMw</td>\n",
       "      <td>A Minecraft Movie | Final Trailer</td>\n",
       "      <td>151</td>\n",
       "      <td>0.080644</td>\n",
       "      <td>0.052269</td>\n",
       "      <td>0.132190</td>\n",
       "      <td>2025-02-27 20:00:04+00:00</td>\n",
       "      <td>US</td>\n",
       "      <td>0</td>\n",
       "      <td>0</td>\n",
       "      <td>...</td>\n",
       "      <td>0</td>\n",
       "      <td>1</td>\n",
       "      <td>0</td>\n",
       "      <td>0</td>\n",
       "      <td>0</td>\n",
       "      <td>0</td>\n",
       "      <td>0</td>\n",
       "      <td>0</td>\n",
       "      <td>0</td>\n",
       "      <td>0</td>\n",
       "    </tr>\n",
       "    <tr>\n",
       "      <th>2</th>\n",
       "      <td>W7FTkUFU7nw</td>\n",
       "      <td>Pokémon Presents | 2.27.2025</td>\n",
       "      <td>1156</td>\n",
       "      <td>0.024396</td>\n",
       "      <td>0.034106</td>\n",
       "      <td>0.106517</td>\n",
       "      <td>2025-02-27 14:00:06+00:00</td>\n",
       "      <td>US</td>\n",
       "      <td>0</td>\n",
       "      <td>0</td>\n",
       "      <td>...</td>\n",
       "      <td>0</td>\n",
       "      <td>1</td>\n",
       "      <td>0</td>\n",
       "      <td>0</td>\n",
       "      <td>0</td>\n",
       "      <td>0</td>\n",
       "      <td>0</td>\n",
       "      <td>0</td>\n",
       "      <td>0</td>\n",
       "      <td>0</td>\n",
       "    </tr>\n",
       "    <tr>\n",
       "      <th>3</th>\n",
       "      <td>r5VRqWkFpEQ</td>\n",
       "      <td>LISA - FUTW (Vixi Solo Version) (Official Musi...</td>\n",
       "      <td>228</td>\n",
       "      <td>0.055906</td>\n",
       "      <td>0.221836</td>\n",
       "      <td>0.382255</td>\n",
       "      <td>2025-02-28 05:01:26+00:00</td>\n",
       "      <td>US</td>\n",
       "      <td>0</td>\n",
       "      <td>0</td>\n",
       "      <td>...</td>\n",
       "      <td>0</td>\n",
       "      <td>1</td>\n",
       "      <td>0</td>\n",
       "      <td>0</td>\n",
       "      <td>0</td>\n",
       "      <td>0</td>\n",
       "      <td>0</td>\n",
       "      <td>0</td>\n",
       "      <td>0</td>\n",
       "      <td>0</td>\n",
       "    </tr>\n",
       "    <tr>\n",
       "      <th>4</th>\n",
       "      <td>vONxgCQWZCA</td>\n",
       "      <td>YoungBoy Never Broke Again - 5 Night [Official...</td>\n",
       "      <td>196</td>\n",
       "      <td>0.003523</td>\n",
       "      <td>0.013293</td>\n",
       "      <td>0.033900</td>\n",
       "      <td>2025-02-28 06:32:53+00:00</td>\n",
       "      <td>US</td>\n",
       "      <td>0</td>\n",
       "      <td>0</td>\n",
       "      <td>...</td>\n",
       "      <td>0</td>\n",
       "      <td>1</td>\n",
       "      <td>0</td>\n",
       "      <td>0</td>\n",
       "      <td>0</td>\n",
       "      <td>0</td>\n",
       "      <td>0</td>\n",
       "      <td>0</td>\n",
       "      <td>0</td>\n",
       "      <td>0</td>\n",
       "    </tr>\n",
       "  </tbody>\n",
       "</table>\n",
       "<p>5 rows × 33 columns</p>\n",
       "</div>"
      ],
      "text/plain": [
       "      Video ID                                              Title  Duration  \\\n",
       "0  KbiwL74KyJQ                          Shrek 5 Cast Announcement        28   \n",
       "1  8B1EtVPBSMw                  A Minecraft Movie | Final Trailer       151   \n",
       "2  W7FTkUFU7nw                       Pokémon Presents | 2.27.2025      1156   \n",
       "3  r5VRqWkFpEQ  LISA - FUTW (Vixi Solo Version) (Official Musi...       228   \n",
       "4  vONxgCQWZCA  YoungBoy Never Broke Again - 5 Night [Official...       196   \n",
       "\n",
       "      Views     Likes  Comments          Publication Time Region  \\\n",
       "0  0.053542  0.034124  0.000000 2025-02-27 16:01:18+00:00     US   \n",
       "1  0.080644  0.052269  0.132190 2025-02-27 20:00:04+00:00     US   \n",
       "2  0.024396  0.034106  0.106517 2025-02-27 14:00:06+00:00     US   \n",
       "3  0.055906  0.221836  0.382255 2025-02-28 05:01:26+00:00     US   \n",
       "4  0.003523  0.013293  0.033900 2025-02-28 06:32:53+00:00     US   \n",
       "\n",
       "   Topic_Autos & Vehicles  Topic_Comedy  ...  Language_Arabic  \\\n",
       "0                       0             0  ...                0   \n",
       "1                       0             0  ...                0   \n",
       "2                       0             0  ...                0   \n",
       "3                       0             0  ...                0   \n",
       "4                       0             0  ...                0   \n",
       "\n",
       "   Language_English  Language_French  Language_German  Language_Hindi  \\\n",
       "0                 1                0                0               0   \n",
       "1                 1                0                0               0   \n",
       "2                 1                0                0               0   \n",
       "3                 1                0                0               0   \n",
       "4                 1                0                0               0   \n",
       "\n",
       "   Language_Japanese  Language_Korean  Language_Portuguese  Language_Russian  \\\n",
       "0                  0                0                    0                 0   \n",
       "1                  0                0                    0                 0   \n",
       "2                  0                0                    0                 0   \n",
       "3                  0                0                    0                 0   \n",
       "4                  0                0                    0                 0   \n",
       "\n",
       "   Language_Spanish  \n",
       "0                 0  \n",
       "1                 0  \n",
       "2                 0  \n",
       "3                 0  \n",
       "4                 0  \n",
       "\n",
       "[5 rows x 33 columns]"
      ]
     },
     "execution_count": 477,
     "metadata": {},
     "output_type": "execute_result"
    }
   ],
   "source": [
    "# One-hot encode 'Topic' and 'Language' columns\n",
    "if 'Topic' in df.columns and 'Language' in df.columns:\n",
    "    df = pd.get_dummies(df, columns=['Topic', 'Language'], drop_first=False)\n",
    "\n",
    "    # Convert only the \"Topic\" and \"Language\" columns from boolean to integers (0 and 1)\n",
    "    topic_language_columns = [col for col in df.columns if 'Topic' in col or 'Language' in col]\n",
    "    df[topic_language_columns] = df[topic_language_columns].astype(int)  # More efficient than applymap()\n",
    "\n",
    "    # Display first few rows after encoding\n",
    "    print(\"After One-Hot Encoding and Normalization:\")\n",
    "df.head()\n"
   ]
  },
  {
   "cell_type": "code",
   "execution_count": 478,
   "metadata": {},
   "outputs": [
    {
     "name": "stdout",
     "output_type": "stream",
     "text": [
      "Processed data saved as 'processed_data.csv'\n"
     ]
    }
   ],
   "source": [
    "# Save the processed dataset as a CSV file\n",
    "df.to_csv(\"processed_data.csv\", index=False)\n",
    "\n",
    "# Confirm the file has been saved\n",
    "print(\"Processed data saved as 'processed_data.csv'\")"
   ]
  },
  {
   "cell_type": "markdown",
   "metadata": {},
   "source": [
    "# **EDA**"
   ]
  }
 ],
 "metadata": {
  "kernelspec": {
   "display_name": "Python 3",
   "language": "python",
   "name": "python3"
  },
  "language_info": {
   "codemirror_mode": {
    "name": "ipython",
    "version": 3
   },
   "file_extension": ".py",
   "mimetype": "text/x-python",
   "name": "python",
   "nbconvert_exporter": "python",
   "pygments_lexer": "ipython3",
   "version": "3.12.1"
  }
 },
 "nbformat": 4,
 "nbformat_minor": 2
}
