{
 "cells": [
  {
   "cell_type": "markdown",
   "metadata": {},
   "source": [
    "# Data Processing and Cleaning"
   ]
  },
  {
   "cell_type": "markdown",
   "metadata": {},
   "source": [
    "## 1. **Data Loading and Initial Inspection**\n",
    "\n",
    "**Description:**\n",
    "\n",
    "Before cleaning and processing, we load the dataset and inspect its structure, including column names, data types, and summary statistics."
   ]
  },
  {
   "cell_type": "code",
   "execution_count": 36,
   "metadata": {},
   "outputs": [
    {
     "name": "stdout",
     "output_type": "stream",
     "text": [
      "      Video ID                                              Title  Duration     Views    Likes  Comments Language             Topic      Publication Time Region\n",
      "0  KbiwL74KyJQ                          Shrek 5 Cast Announcement     PT28S   7871600   156303         0  English     Entertainment  2025-02-27T16:01:18Z     US\n",
      "1  8B1EtVPBSMw                  A Minecraft Movie | Final Trailer   PT2M31S  11843815   239419     22975  English  Film & Animation  2025-02-27T20:00:04Z     US\n",
      "2  W7FTkUFU7nw                       Pokémon Presents | 2.27.2025  PT19M16S   3599910   156222     18513  English            Gaming  2025-02-27T14:00:06Z     US\n",
      "3  r5VRqWkFpEQ  LISA - FUTW (Vixi Solo Version) (Official Musi...   PT3M48S   8218102  1016119     66437  English             Music  2025-02-28T05:01:26Z     US\n",
      "4  vONxgCQWZCA  YoungBoy Never Broke Again - 5 Night [Official...   PT3M16S    540591    60888      5892  English             Music  2025-02-28T06:32:53Z     US\n",
      "<class 'pandas.core.frame.DataFrame'>\n",
      "RangeIndex: 2513 entries, 0 to 2512\n",
      "Data columns (total 10 columns):\n",
      " #   Column            Non-Null Count  Dtype \n",
      "---  ------            --------------  ----- \n",
      " 0   Video ID          2513 non-null   object\n",
      " 1   Title             2513 non-null   object\n",
      " 2   Duration          2513 non-null   object\n",
      " 3   Views             2513 non-null   int64 \n",
      " 4   Likes             2513 non-null   int64 \n",
      " 5   Comments          2513 non-null   int64 \n",
      " 6   Language          2513 non-null   object\n",
      " 7   Topic             2513 non-null   object\n",
      " 8   Publication Time  2513 non-null   object\n",
      " 9   Region            2513 non-null   object\n",
      "dtypes: int64(3), object(7)\n",
      "memory usage: 196.5+ KB\n",
      "None\n",
      "              Views         Likes       Comments\n",
      "count  2.513000e+03  2.513000e+03    2513.000000\n",
      "mean   2.578657e+06  9.285591e+04    5555.045762\n",
      "std    8.352468e+06  3.028678e+05   15382.891750\n",
      "min    0.000000e+00  0.000000e+00       0.000000\n",
      "25%    3.243060e+05  9.028000e+03     533.000000\n",
      "50%    7.442750e+05  2.301400e+04    1477.000000\n",
      "75%    1.819733e+06  6.751600e+04    3986.000000\n",
      "max    1.465875e+08  4.580506e+06  173803.000000\n"
     ]
    }
   ],
   "source": [
    "import pandas as pd\n",
    "\n",
    "# Load the CSV file\n",
    "df = pd.read_csv(\"primary_data.csv\")\n",
    "\n",
    "# Display the first 5 rows\n",
    "print(df.head())\n",
    "\n",
    "# Display dataset information (columns, data types, non-null counts)\n",
    "print(df.info())\n",
    "\n",
    "# Display summary statistics for numerical columns\n",
    "print(df.describe())"
   ]
  },
  {
   "cell_type": "markdown",
   "metadata": {},
   "source": [
    "# Load the dataset"
   ]
  },
  {
   "cell_type": "code",
   "execution_count": 37,
   "metadata": {},
   "outputs": [],
   "source": [
    "df = pd.read_csv(\"primary_data.csv\")"
   ]
  },
  {
   "cell_type": "markdown",
   "metadata": {},
   "source": [
    "# Display the first 5 rows"
   ]
  },
  {
   "cell_type": "code",
   "execution_count": 38,
   "metadata": {},
   "outputs": [
    {
     "data": {
      "text/html": [
       "<div>\n",
       "<style scoped>\n",
       "    .dataframe tbody tr th:only-of-type {\n",
       "        vertical-align: middle;\n",
       "    }\n",
       "\n",
       "    .dataframe tbody tr th {\n",
       "        vertical-align: top;\n",
       "    }\n",
       "\n",
       "    .dataframe thead th {\n",
       "        text-align: right;\n",
       "    }\n",
       "</style>\n",
       "<table border=\"1\" class=\"dataframe\">\n",
       "  <thead>\n",
       "    <tr style=\"text-align: right;\">\n",
       "      <th></th>\n",
       "      <th>Video ID</th>\n",
       "      <th>Title</th>\n",
       "      <th>Duration</th>\n",
       "      <th>Views</th>\n",
       "      <th>Likes</th>\n",
       "      <th>Comments</th>\n",
       "      <th>Language</th>\n",
       "      <th>Topic</th>\n",
       "      <th>Publication Time</th>\n",
       "      <th>Region</th>\n",
       "    </tr>\n",
       "  </thead>\n",
       "  <tbody>\n",
       "    <tr>\n",
       "      <th>0</th>\n",
       "      <td>KbiwL74KyJQ</td>\n",
       "      <td>Shrek 5 Cast Announcement</td>\n",
       "      <td>PT28S</td>\n",
       "      <td>7871600</td>\n",
       "      <td>156303</td>\n",
       "      <td>0</td>\n",
       "      <td>English</td>\n",
       "      <td>Entertainment</td>\n",
       "      <td>2025-02-27T16:01:18Z</td>\n",
       "      <td>US</td>\n",
       "    </tr>\n",
       "    <tr>\n",
       "      <th>1</th>\n",
       "      <td>8B1EtVPBSMw</td>\n",
       "      <td>A Minecraft Movie | Final Trailer</td>\n",
       "      <td>PT2M31S</td>\n",
       "      <td>11843815</td>\n",
       "      <td>239419</td>\n",
       "      <td>22975</td>\n",
       "      <td>English</td>\n",
       "      <td>Film &amp; Animation</td>\n",
       "      <td>2025-02-27T20:00:04Z</td>\n",
       "      <td>US</td>\n",
       "    </tr>\n",
       "    <tr>\n",
       "      <th>2</th>\n",
       "      <td>W7FTkUFU7nw</td>\n",
       "      <td>Pokémon Presents | 2.27.2025</td>\n",
       "      <td>PT19M16S</td>\n",
       "      <td>3599910</td>\n",
       "      <td>156222</td>\n",
       "      <td>18513</td>\n",
       "      <td>English</td>\n",
       "      <td>Gaming</td>\n",
       "      <td>2025-02-27T14:00:06Z</td>\n",
       "      <td>US</td>\n",
       "    </tr>\n",
       "    <tr>\n",
       "      <th>3</th>\n",
       "      <td>r5VRqWkFpEQ</td>\n",
       "      <td>LISA - FUTW (Vixi Solo Version) (Official Musi...</td>\n",
       "      <td>PT3M48S</td>\n",
       "      <td>8218102</td>\n",
       "      <td>1016119</td>\n",
       "      <td>66437</td>\n",
       "      <td>English</td>\n",
       "      <td>Music</td>\n",
       "      <td>2025-02-28T05:01:26Z</td>\n",
       "      <td>US</td>\n",
       "    </tr>\n",
       "    <tr>\n",
       "      <th>4</th>\n",
       "      <td>vONxgCQWZCA</td>\n",
       "      <td>YoungBoy Never Broke Again - 5 Night [Official...</td>\n",
       "      <td>PT3M16S</td>\n",
       "      <td>540591</td>\n",
       "      <td>60888</td>\n",
       "      <td>5892</td>\n",
       "      <td>English</td>\n",
       "      <td>Music</td>\n",
       "      <td>2025-02-28T06:32:53Z</td>\n",
       "      <td>US</td>\n",
       "    </tr>\n",
       "  </tbody>\n",
       "</table>\n",
       "</div>"
      ],
      "text/plain": [
       "      Video ID                                              Title  Duration     Views    Likes  Comments Language             Topic      Publication Time Region\n",
       "0  KbiwL74KyJQ                          Shrek 5 Cast Announcement     PT28S   7871600   156303         0  English     Entertainment  2025-02-27T16:01:18Z     US\n",
       "1  8B1EtVPBSMw                  A Minecraft Movie | Final Trailer   PT2M31S  11843815   239419     22975  English  Film & Animation  2025-02-27T20:00:04Z     US\n",
       "2  W7FTkUFU7nw                       Pokémon Presents | 2.27.2025  PT19M16S   3599910   156222     18513  English            Gaming  2025-02-27T14:00:06Z     US\n",
       "3  r5VRqWkFpEQ  LISA - FUTW (Vixi Solo Version) (Official Musi...   PT3M48S   8218102  1016119     66437  English             Music  2025-02-28T05:01:26Z     US\n",
       "4  vONxgCQWZCA  YoungBoy Never Broke Again - 5 Night [Official...   PT3M16S    540591    60888      5892  English             Music  2025-02-28T06:32:53Z     US"
      ]
     },
     "execution_count": 38,
     "metadata": {},
     "output_type": "execute_result"
    }
   ],
   "source": [
    "df.head()"
   ]
  },
  {
   "cell_type": "markdown",
   "metadata": {},
   "source": [
    "# Display dataset information (columns, data types, non-null counts)"
   ]
  },
  {
   "cell_type": "code",
   "execution_count": 39,
   "metadata": {},
   "outputs": [
    {
     "name": "stdout",
     "output_type": "stream",
     "text": [
      "<class 'pandas.core.frame.DataFrame'>\n",
      "RangeIndex: 2513 entries, 0 to 2512\n",
      "Data columns (total 10 columns):\n",
      " #   Column            Non-Null Count  Dtype \n",
      "---  ------            --------------  ----- \n",
      " 0   Video ID          2513 non-null   object\n",
      " 1   Title             2513 non-null   object\n",
      " 2   Duration          2513 non-null   object\n",
      " 3   Views             2513 non-null   int64 \n",
      " 4   Likes             2513 non-null   int64 \n",
      " 5   Comments          2513 non-null   int64 \n",
      " 6   Language          2513 non-null   object\n",
      " 7   Topic             2513 non-null   object\n",
      " 8   Publication Time  2513 non-null   object\n",
      " 9   Region            2513 non-null   object\n",
      "dtypes: int64(3), object(7)\n",
      "memory usage: 196.5+ KB\n",
      "None\n"
     ]
    }
   ],
   "source": [
    "print(df.info())"
   ]
  },
  {
   "cell_type": "markdown",
   "metadata": {},
   "source": [
    "# Display summary statistics for numerical columns"
   ]
  },
  {
   "cell_type": "code",
   "execution_count": 40,
   "metadata": {},
   "outputs": [
    {
     "name": "stdout",
     "output_type": "stream",
     "text": [
      "              Views         Likes       Comments\n",
      "count  2.513000e+03  2.513000e+03    2513.000000\n",
      "mean   2.578657e+06  9.285591e+04    5555.045762\n",
      "std    8.352468e+06  3.028678e+05   15382.891750\n",
      "min    0.000000e+00  0.000000e+00       0.000000\n",
      "25%    3.243060e+05  9.028000e+03     533.000000\n",
      "50%    7.442750e+05  2.301400e+04    1477.000000\n",
      "75%    1.819733e+06  6.751600e+04    3986.000000\n",
      "max    1.465875e+08  4.580506e+06  173803.000000\n"
     ]
    }
   ],
   "source": [
    "print(df.describe())"
   ]
  },
  {
   "cell_type": "markdown",
   "metadata": {},
   "source": [
    "## 2. **Handling Missing Values**"
   ]
  },
  {
   "cell_type": "markdown",
   "metadata": {},
   "source": [
    "### Description:\n",
    "We check for missing values in the dataset and handle them appropriately. For this dataset, we drop rows with missing critical fields like `Views`, `Likes`, or `Comments`"
   ]
  },
  {
   "cell_type": "markdown",
   "metadata": {},
   "source": [
    "# Check for missing values"
   ]
  },
  {
   "cell_type": "code",
   "execution_count": 41,
   "metadata": {},
   "outputs": [
    {
     "name": "stdout",
     "output_type": "stream",
     "text": [
      "Video ID            0\n",
      "Title               0\n",
      "Duration            0\n",
      "Views               0\n",
      "Likes               0\n",
      "Comments            0\n",
      "Language            0\n",
      "Topic               0\n",
      "Publication Time    0\n",
      "Region              0\n",
      "dtype: int64\n"
     ]
    }
   ],
   "source": [
    "print(df.isnull().sum())"
   ]
  },
  {
   "cell_type": "markdown",
   "metadata": {},
   "source": [
    "**No missing values found**, so no rows were dropped."
   ]
  },
  {
   "cell_type": "markdown",
   "metadata": {},
   "source": [
    "## 3. **Removing Duplicates**"
   ]
  },
  {
   "cell_type": "markdown",
   "metadata": {},
   "source": [
    "### Description:\n",
    "We check for duplicate rows based on the `VideoID` column and remove them to ensure data integrity."
   ]
  },
  {
   "cell_type": "markdown",
   "metadata": {},
   "source": [
    "# Check for duplicate Video IDs"
   ]
  },
  {
   "cell_type": "code",
   "execution_count": 48,
   "metadata": {},
   "outputs": [
    {
     "name": "stdout",
     "output_type": "stream",
     "text": [
      "Duplicate rows: 656\n"
     ]
    }
   ],
   "source": [
    "print(f\"Duplicate rows: {df.duplicated(subset='Video ID').sum()}\")\n"
   ]
  },
  {
   "cell_type": "markdown",
   "metadata": {},
   "source": [
    "**No duplicates found**, so no rows were removed"
   ]
  },
  {
   "cell_type": "markdown",
   "metadata": {},
   "source": [
    "## 4. **Data Type Conversion**\n",
    "### Description:\n",
    "We convert the Duration column from ISO 8601 format to seconds for easier analysis. We also convert the Publication Time column to a datetime object."
   ]
  },
  {
   "cell_type": "code",
   "execution_count": 55,
   "metadata": {},
   "outputs": [
    {
     "ename": "KeyError",
     "evalue": "'Duration'",
     "output_type": "error",
     "traceback": [
      "\u001b[0;31m---------------------------------------------------------------------------\u001b[0m",
      "\u001b[0;31mKeyError\u001b[0m                                  Traceback (most recent call last)",
      "File \u001b[0;32m~/.local/lib/python3.12/site-packages/pandas/core/indexes/base.py:3805\u001b[0m, in \u001b[0;36mIndex.get_loc\u001b[0;34m(self, key)\u001b[0m\n\u001b[1;32m   3804\u001b[0m \u001b[38;5;28;01mtry\u001b[39;00m:\n\u001b[0;32m-> 3805\u001b[0m     \u001b[38;5;28;01mreturn\u001b[39;00m \u001b[38;5;28;43mself\u001b[39;49m\u001b[38;5;241;43m.\u001b[39;49m\u001b[43m_engine\u001b[49m\u001b[38;5;241;43m.\u001b[39;49m\u001b[43mget_loc\u001b[49m\u001b[43m(\u001b[49m\u001b[43mcasted_key\u001b[49m\u001b[43m)\u001b[49m\n\u001b[1;32m   3806\u001b[0m \u001b[38;5;28;01mexcept\u001b[39;00m \u001b[38;5;167;01mKeyError\u001b[39;00m \u001b[38;5;28;01mas\u001b[39;00m err:\n",
      "File \u001b[0;32mindex.pyx:167\u001b[0m, in \u001b[0;36mpandas._libs.index.IndexEngine.get_loc\u001b[0;34m()\u001b[0m\n",
      "File \u001b[0;32mindex.pyx:196\u001b[0m, in \u001b[0;36mpandas._libs.index.IndexEngine.get_loc\u001b[0;34m()\u001b[0m\n",
      "File \u001b[0;32mpandas/_libs/hashtable_class_helper.pxi:7081\u001b[0m, in \u001b[0;36mpandas._libs.hashtable.PyObjectHashTable.get_item\u001b[0;34m()\u001b[0m\n",
      "File \u001b[0;32mpandas/_libs/hashtable_class_helper.pxi:7089\u001b[0m, in \u001b[0;36mpandas._libs.hashtable.PyObjectHashTable.get_item\u001b[0;34m()\u001b[0m\n",
      "\u001b[0;31mKeyError\u001b[0m: 'Duration'",
      "\nThe above exception was the direct cause of the following exception:\n",
      "\u001b[0;31mKeyError\u001b[0m                                  Traceback (most recent call last)",
      "Cell \u001b[0;32mIn[55], line 15\u001b[0m\n\u001b[1;32m     12\u001b[0m     \u001b[38;5;28;01mreturn\u001b[39;00m seconds\n\u001b[1;32m     14\u001b[0m \u001b[38;5;66;03m# Apply the function to the Duration column\u001b[39;00m\n\u001b[0;32m---> 15\u001b[0m df[\u001b[38;5;124m\"\u001b[39m\u001b[38;5;124mDuration (seconds)\u001b[39m\u001b[38;5;124m\"\u001b[39m] \u001b[38;5;241m=\u001b[39m \u001b[43mdf\u001b[49m\u001b[43m[\u001b[49m\u001b[38;5;124;43m\"\u001b[39;49m\u001b[38;5;124;43mDuration\u001b[39;49m\u001b[38;5;124;43m\"\u001b[39;49m\u001b[43m]\u001b[49m\u001b[38;5;241m.\u001b[39mapply(iso_to_seconds)\n\u001b[1;32m     17\u001b[0m \u001b[38;5;66;03m# Drop the original Duration column\u001b[39;00m\n\u001b[1;32m     18\u001b[0m df \u001b[38;5;241m=\u001b[39m df\u001b[38;5;241m.\u001b[39mdrop(\u001b[38;5;124m\"\u001b[39m\u001b[38;5;124mDuration\u001b[39m\u001b[38;5;124m\"\u001b[39m, axis\u001b[38;5;241m=\u001b[39m\u001b[38;5;241m1\u001b[39m)\n",
      "File \u001b[0;32m~/.local/lib/python3.12/site-packages/pandas/core/frame.py:4102\u001b[0m, in \u001b[0;36mDataFrame.__getitem__\u001b[0;34m(self, key)\u001b[0m\n\u001b[1;32m   4100\u001b[0m \u001b[38;5;28;01mif\u001b[39;00m \u001b[38;5;28mself\u001b[39m\u001b[38;5;241m.\u001b[39mcolumns\u001b[38;5;241m.\u001b[39mnlevels \u001b[38;5;241m>\u001b[39m \u001b[38;5;241m1\u001b[39m:\n\u001b[1;32m   4101\u001b[0m     \u001b[38;5;28;01mreturn\u001b[39;00m \u001b[38;5;28mself\u001b[39m\u001b[38;5;241m.\u001b[39m_getitem_multilevel(key)\n\u001b[0;32m-> 4102\u001b[0m indexer \u001b[38;5;241m=\u001b[39m \u001b[38;5;28;43mself\u001b[39;49m\u001b[38;5;241;43m.\u001b[39;49m\u001b[43mcolumns\u001b[49m\u001b[38;5;241;43m.\u001b[39;49m\u001b[43mget_loc\u001b[49m\u001b[43m(\u001b[49m\u001b[43mkey\u001b[49m\u001b[43m)\u001b[49m\n\u001b[1;32m   4103\u001b[0m \u001b[38;5;28;01mif\u001b[39;00m is_integer(indexer):\n\u001b[1;32m   4104\u001b[0m     indexer \u001b[38;5;241m=\u001b[39m [indexer]\n",
      "File \u001b[0;32m~/.local/lib/python3.12/site-packages/pandas/core/indexes/base.py:3812\u001b[0m, in \u001b[0;36mIndex.get_loc\u001b[0;34m(self, key)\u001b[0m\n\u001b[1;32m   3807\u001b[0m     \u001b[38;5;28;01mif\u001b[39;00m \u001b[38;5;28misinstance\u001b[39m(casted_key, \u001b[38;5;28mslice\u001b[39m) \u001b[38;5;129;01mor\u001b[39;00m (\n\u001b[1;32m   3808\u001b[0m         \u001b[38;5;28misinstance\u001b[39m(casted_key, abc\u001b[38;5;241m.\u001b[39mIterable)\n\u001b[1;32m   3809\u001b[0m         \u001b[38;5;129;01mand\u001b[39;00m \u001b[38;5;28many\u001b[39m(\u001b[38;5;28misinstance\u001b[39m(x, \u001b[38;5;28mslice\u001b[39m) \u001b[38;5;28;01mfor\u001b[39;00m x \u001b[38;5;129;01min\u001b[39;00m casted_key)\n\u001b[1;32m   3810\u001b[0m     ):\n\u001b[1;32m   3811\u001b[0m         \u001b[38;5;28;01mraise\u001b[39;00m InvalidIndexError(key)\n\u001b[0;32m-> 3812\u001b[0m     \u001b[38;5;28;01mraise\u001b[39;00m \u001b[38;5;167;01mKeyError\u001b[39;00m(key) \u001b[38;5;28;01mfrom\u001b[39;00m \u001b[38;5;21;01merr\u001b[39;00m\n\u001b[1;32m   3813\u001b[0m \u001b[38;5;28;01mexcept\u001b[39;00m \u001b[38;5;167;01mTypeError\u001b[39;00m:\n\u001b[1;32m   3814\u001b[0m     \u001b[38;5;66;03m# If we have a listlike key, _check_indexing_error will raise\u001b[39;00m\n\u001b[1;32m   3815\u001b[0m     \u001b[38;5;66;03m#  InvalidIndexError. Otherwise we fall through and re-raise\u001b[39;00m\n\u001b[1;32m   3816\u001b[0m     \u001b[38;5;66;03m#  the TypeError.\u001b[39;00m\n\u001b[1;32m   3817\u001b[0m     \u001b[38;5;28mself\u001b[39m\u001b[38;5;241m.\u001b[39m_check_indexing_error(key)\n",
      "\u001b[0;31mKeyError\u001b[0m: 'Duration'"
     ]
    }
   ],
   "source": [
    "# Function to convert ISO 8601 duration to seconds\n",
    "def iso_to_seconds(Duration ):\n",
    "    time_str = duration.replace(\"PT\", \"\").replace(\"H\", \"H \").replace(\"M\", \"M \").replace(\"S\", \"S\").split()\n",
    "    seconds = 0\n",
    "    for part in time_str:\n",
    "        if 'H' in part:\n",
    "            seconds += int(part.replace('H', '')) * 3600  # Convert hours to seconds\n",
    "        elif 'M' in part:\n",
    "            seconds += int(part.replace('M', '')) * 60    # Convert minutes to seconds\n",
    "        elif 'S' in part:\n",
    "            seconds += int(part.replace('S', ''))         # Add seconds\n",
    "    return seconds\n",
    "\n",
    "# Apply the function to the Duration column\n",
    "df[\"Duration (seconds)\"] = df[\"Duration\"].apply(iso_to_seconds)\n",
    "\n",
    "# Drop the original Duration column\n",
    "df = df.drop(\"Duration\", axis=1)"
   ]
  }
 ],
 "metadata": {
  "kernelspec": {
   "display_name": "Python 3",
   "language": "python",
   "name": "python3"
  },
  "language_info": {
   "codemirror_mode": {
    "name": "ipython",
    "version": 3
   },
   "file_extension": ".py",
   "mimetype": "text/x-python",
   "name": "python",
   "nbconvert_exporter": "python",
   "pygments_lexer": "ipython3",
   "version": "3.12.1"
  }
 },
 "nbformat": 4,
 "nbformat_minor": 2
}
